{
 "cells": [
  {
   "cell_type": "code",
   "execution_count": 1,
   "id": "c3e4b8d7",
   "metadata": {},
   "outputs": [
    {
     "name": "stdout",
     "output_type": "stream",
     "text": [
      "Twinkle,twinkle,little star, \n",
      "        How I wonder what you are! \n",
      "               Up above the world so high, \n",
      "               Like a diamond in the sky. \n",
      "Twinkle,twinkle,little star, \n",
      "        How I wonder what you are!\n"
     ]
    }
   ],
   "source": [
    "print(\"Twinkle,twinkle,little star, \\n        How I wonder what you are! \\n               Up above the world so high, \\n               Like a diamond in the sky. \\nTwinkle,twinkle,little star, \\n        How I wonder what you are!\")"
   ]
  },
  {
   "cell_type": "code",
   "execution_count": 2,
   "id": "0d5fe3b8",
   "metadata": {},
   "outputs": [
    {
     "name": "stdout",
     "output_type": "stream",
     "text": [
      "Python version\n",
      "3.9.7 (default, Sep 16 2021, 16:59:28) [MSC v.1916 64 bit (AMD64)]\n",
      "Version info.\n",
      "sys.version_info(major=3, minor=9, micro=7, releaselevel='final', serial=0)\n"
     ]
    }
   ],
   "source": [
    "import sys\n",
    "print(\"Python version\")\n",
    "print (sys.version)\n",
    "print(\"Version info.\")\n",
    "print (sys.version_info)"
   ]
  },
  {
   "cell_type": "code",
   "execution_count": 3,
   "id": "191f6213",
   "metadata": {},
   "outputs": [
    {
     "name": "stdout",
     "output_type": "stream",
     "text": [
      "Current date and time =  2022-01-01 17:22:35.492994\n"
     ]
    }
   ],
   "source": [
    "from datetime import datetime\n",
    "currentdatetime = datetime.now()\n",
    "print(\"Current date and time = \",currentdatetime)"
   ]
  },
  {
   "cell_type": "code",
   "execution_count": 4,
   "id": "d2826eb8",
   "metadata": {},
   "outputs": [
    {
     "name": "stdout",
     "output_type": "stream",
     "text": [
      "Input the radius of the circle : 2\n",
      "The area of the circle with radius 2.0 is: 12.566370614359172\n",
      "Input the radius of the circle : 2\n",
      "The area of the circle with radius  2.0  is:  12.56\n"
     ]
    }
   ],
   "source": [
    "from math import pi\n",
    "r = float(input (\"Input the radius of the circle : \"))\n",
    "print (\"The area of the circle with radius \" + str(r) + \" is: \" + str(pi * r**2))\n",
    "\n",
    "#OR It can be Done in this way:\n",
    "\n",
    "r = float(input (\"Input the radius of the circle : \"))\n",
    "print (\"The area of the circle with radius \", r , \" is: \", 3.14 * r**2)"
   ]
  },
  {
   "cell_type": "code",
   "execution_count": 5,
   "id": "f2204ad5",
   "metadata": {},
   "outputs": [
    {
     "name": "stdout",
     "output_type": "stream",
     "text": [
      "Enter your First Name Abdul \n",
      "Enter your Last Name Haseeb\n",
      "Haseeb Abdul \n",
      "Enter your First Name Abdul \n",
      "Enter your Last Name Haseeb\n",
      "Haseeb Abdul \n"
     ]
    }
   ],
   "source": [
    "a = input(\"Enter your First Name \")\n",
    "b = input(\"Enter your Last Name \")\n",
    "c = b+ \" \" + a\n",
    "print(c)\n",
    "\n",
    "#OR It can be done in this way:\n",
    "\n",
    "x = input(\"Enter your First Name \")\n",
    "y = input(\"Enter your Last Name \")\n",
    "print(y, x)"
   ]
  },
  {
   "cell_type": "code",
   "execution_count": 6,
   "id": "a83254ba",
   "metadata": {},
   "outputs": [
    {
     "name": "stdout",
     "output_type": "stream",
     "text": [
      "What is your age ? 19\n",
      "What is your DOB ? 12-june-2002\n",
      "1912-june-2002\n"
     ]
    }
   ],
   "source": [
    "a = input(\"What is your age ? \")\n",
    "b = input(\"What is your DOB ? \")\n",
    "print(a+b)"
   ]
  }
 ],
 "metadata": {
  "kernelspec": {
   "display_name": "Python 3 (ipykernel)",
   "language": "python",
   "name": "python3"
  },
  "language_info": {
   "codemirror_mode": {
    "name": "ipython",
    "version": 3
   },
   "file_extension": ".py",
   "mimetype": "text/x-python",
   "name": "python",
   "nbconvert_exporter": "python",
   "pygments_lexer": "ipython3",
   "version": "3.9.7"
  }
 },
 "nbformat": 4,
 "nbformat_minor": 5
}
